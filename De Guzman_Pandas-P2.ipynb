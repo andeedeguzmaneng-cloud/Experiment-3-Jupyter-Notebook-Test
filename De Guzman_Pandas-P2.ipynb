{
 "cells": [
  {
   "cell_type": "markdown",
   "id": "a6686350-ed6e-446f-a374-e47cd3803ff7",
   "metadata": {},
   "source": [
    "PROBLEM #2"
   ]
  },
  {
   "cell_type": "code",
   "execution_count": 1,
   "id": "a78b16c1-a4ee-44fa-9ddf-1b8be0bbab69",
   "metadata": {},
   "outputs": [],
   "source": [
    "import pandas as pd"
   ]
  },
  {
   "cell_type": "code",
   "execution_count": 2,
   "id": "fb280cb6-6f38-43ce-a3e3-005ceca72471",
   "metadata": {},
   "outputs": [],
   "source": [
    "url = \"http://bit.ly/Cars_file\"\n",
    "cars = pd.read_csv(url)"
   ]
  },
  {
   "cell_type": "code",
   "execution_count": 3,
   "id": "039d9a4e-8315-4366-92ae-e09ce6b19120",
   "metadata": {},
   "outputs": [
    {
     "name": "stdout",
     "output_type": "stream",
     "text": [
      "a. First five rows with odd-numbered columns:\n",
      "               Model  cyl   hp     wt  vs  gear\n",
      "0          Mazda RX4    6  110  2.620   0     4\n",
      "1      Mazda RX4 Wag    6  110  2.875   0     4\n",
      "2         Datsun 710    4   93  2.320   1     4\n",
      "3     Hornet 4 Drive    6  110  3.215   1     3\n",
      "4  Hornet Sportabout    8  175  3.440   0     3\n"
     ]
    }
   ],
   "source": [
    "odd_columns = cars.iloc[:, ::2]\n",
    "print(\"a. First five rows with odd-numbered columns:\")\n",
    "print(odd_columns.head())"
   ]
  },
  {
   "cell_type": "code",
   "execution_count": 4,
   "id": "f96761df-4192-444d-9c83-1fcd246ce3da",
   "metadata": {},
   "outputs": [
    {
     "name": "stdout",
     "output_type": "stream",
     "text": [
      "\n",
      "b. Row for 'Mazda RX4':\n",
      "       Model   mpg  cyl   disp   hp  drat    wt   qsec  vs  am  gear  carb\n",
      "0  Mazda RX4  21.0    6  160.0  110   3.9  2.62  16.46   0   1     4     4\n"
     ]
    }
   ],
   "source": [
    "print(\"\\nb. Row for 'Mazda RX4':\")\n",
    "print(cars[cars['Model'] == 'Mazda RX4'])"
   ]
  },
  {
   "cell_type": "code",
   "execution_count": 5,
   "id": "f0eac684-b3fc-4ad3-a5a6-46ca00d06780",
   "metadata": {},
   "outputs": [
    {
     "name": "stdout",
     "output_type": "stream",
     "text": [
      "\n",
      "c. 'Camaro Z28' has 8 cylinders.\n"
     ]
    }
   ],
   "source": [
    "camaro_cyl = cars[cars['Model'] == 'Camaro Z28']['cyl'].values[0]\n",
    "print(f\"\\nc. 'Camaro Z28' has {camaro_cyl} cylinders.\")"
   ]
  },
  {
   "cell_type": "code",
   "execution_count": 6,
   "id": "1d405dee-e6c8-44c7-8a3a-9317fbd10ec2",
   "metadata": {},
   "outputs": [
    {
     "name": "stdout",
     "output_type": "stream",
     "text": [
      "\n",
      "d. Cylinders and gear types for selected models:\n",
      "             Model  cyl  gear\n",
      "1    Mazda RX4 Wag    6     4\n",
      "18     Honda Civic    4     4\n",
      "28  Ford Pantera L    8     5\n"
     ]
    }
   ],
   "source": [
    "models = ['Mazda RX4 Wag', 'Ford Pantera L', 'Honda Civic']\n",
    "selected = cars[cars['Model'].isin(models)][['Model', 'cyl', 'gear']]\n",
    "print(\"\\nd. Cylinders and gear types for selected models:\")\n",
    "print(selected)"
   ]
  },
  {
   "cell_type": "code",
   "execution_count": null,
   "id": "8f5d233d-2f23-4862-ac07-30d2abbe3b7b",
   "metadata": {},
   "outputs": [],
   "source": []
  }
 ],
 "metadata": {
  "kernelspec": {
   "display_name": "Python 3 (ipykernel)",
   "language": "python",
   "name": "python3"
  },
  "language_info": {
   "codemirror_mode": {
    "name": "ipython",
    "version": 3
   },
   "file_extension": ".py",
   "mimetype": "text/x-python",
   "name": "python",
   "nbconvert_exporter": "python",
   "pygments_lexer": "ipython3",
   "version": "3.13.5"
  }
 },
 "nbformat": 4,
 "nbformat_minor": 5
}
